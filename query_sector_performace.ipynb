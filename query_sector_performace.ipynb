{
  "cells": [
    {
      "metadata": {
        "trusted": true
      },
      "cell_type": "code",
      "source": "import os\nfrom alpha_vantage.sectorperformance import SectorPerformances",
      "execution_count": 5,
      "outputs": [
        {
          "output_type": "error",
          "ename": "ImportError",
          "evalue": "No module named 'alpha_vantage'",
          "traceback": [
            "\u001b[0;31m---------------------------------------------------------------------------\u001b[0m",
            "\u001b[0;31mImportError\u001b[0m                               Traceback (most recent call last)",
            "\u001b[0;32m<ipython-input-5-1e1ef5e24b3f>\u001b[0m in \u001b[0;36m<module>\u001b[0;34m()\u001b[0m\n\u001b[1;32m      1\u001b[0m \u001b[0;32mimport\u001b[0m \u001b[0mos\u001b[0m\u001b[0;34m\u001b[0m\u001b[0m\n\u001b[0;32m----> 2\u001b[0;31m \u001b[0;32mfrom\u001b[0m \u001b[0malpha_vantage\u001b[0m\u001b[0;34m.\u001b[0m\u001b[0msectorperformance\u001b[0m \u001b[0;32mimport\u001b[0m \u001b[0mSectorPerformances\u001b[0m\u001b[0;34m\u001b[0m\u001b[0m\n\u001b[0m",
            "\u001b[0;31mImportError\u001b[0m: No module named 'alpha_vantage'"
          ]
        }
      ]
    },
    {
      "metadata": {
        "trusted": false
      },
      "cell_type": "code",
      "source": "API_KEY = os.environ['API_KEY']",
      "execution_count": 2,
      "outputs": []
    },
    {
      "metadata": {
        "trusted": false
      },
      "cell_type": "code",
      "source": "sp = SectorPerformances(key=API_KEY,output_format='pandas')\nsp_data, sp_meta = sp.get_sector()",
      "execution_count": 5,
      "outputs": []
    },
    {
      "metadata": {
        "trusted": false
      },
      "cell_type": "code",
      "source": "sp_meta",
      "execution_count": 7,
      "outputs": [
        {
          "data": {
            "text/plain": "{'Information': 'US Sector Performance (realtime & historical)',\n 'Last Refreshed': '2020-07-13 14:42:50 US/Eastern'}"
          },
          "execution_count": 7,
          "metadata": {},
          "output_type": "execute_result"
        }
      ]
    },
    {
      "metadata": {
        "trusted": false
      },
      "cell_type": "code",
      "source": "sp_data",
      "execution_count": 8,
      "outputs": [
        {
          "data": {
            "text/html": "<div>\n<style scoped>\n    .dataframe tbody tr th:only-of-type {\n        vertical-align: middle;\n    }\n\n    .dataframe tbody tr th {\n        vertical-align: top;\n    }\n\n    .dataframe thead th {\n        text-align: right;\n    }\n</style>\n<table border=\"1\" class=\"dataframe\">\n  <thead>\n    <tr style=\"text-align: right;\">\n      <th></th>\n      <th>Rank A: Real-Time Performance</th>\n      <th>Rank B: Day Performance</th>\n      <th>Rank C: Day Performance</th>\n      <th>Rank D: Month Performance</th>\n      <th>Rank E: Month Performance</th>\n      <th>Rank F: Year-to-Date (YTD) Performance</th>\n      <th>Rank G: Year Performance</th>\n      <th>Rank H: Year Performance</th>\n      <th>Rank I: Year Performance</th>\n      <th>Rank J: Year Performance</th>\n    </tr>\n  </thead>\n  <tbody>\n    <tr>\n      <th>Health Care</th>\n      <td>0.0189</td>\n      <td>-0.0022</td>\n      <td>-0.0088</td>\n      <td>-0.0180</td>\n      <td>0.0614</td>\n      <td>-0.0120</td>\n      <td>0.0888</td>\n      <td>0.2809</td>\n      <td>0.3671</td>\n      <td>2.4873</td>\n    </tr>\n    <tr>\n      <th>Industrials</th>\n      <td>0.0163</td>\n      <td>0.0129</td>\n      <td>-0.0139</td>\n      <td>-0.0826</td>\n      <td>0.0758</td>\n      <td>-0.1642</td>\n      <td>-0.1107</td>\n      <td>-0.0206</td>\n      <td>0.2433</td>\n      <td>1.3143</td>\n    </tr>\n    <tr>\n      <th>Financials</th>\n      <td>0.0142</td>\n      <td>0.0348</td>\n      <td>0.0215</td>\n      <td>-0.0992</td>\n      <td>0.0044</td>\n      <td>-0.2374</td>\n      <td>-0.1640</td>\n      <td>-0.0617</td>\n      <td>0.1894</td>\n      <td>0.9947</td>\n    </tr>\n    <tr>\n      <th>Materials</th>\n      <td>0.0129</td>\n      <td>0.0175</td>\n      <td>0.0076</td>\n      <td>-0.0164</td>\n      <td>0.1290</td>\n      <td>-0.0543</td>\n      <td>0.0095</td>\n      <td>0.0750</td>\n      <td>0.2364</td>\n      <td>0.9783</td>\n    </tr>\n    <tr>\n      <th>Energy</th>\n      <td>0.0077</td>\n      <td>0.0325</td>\n      <td>-0.0464</td>\n      <td>-0.2013</td>\n      <td>0.0412</td>\n      <td>-0.4078</td>\n      <td>-0.4220</td>\n      <td>-0.4272</td>\n      <td>-0.4952</td>\n      <td>-0.3138</td>\n    </tr>\n    <tr>\n      <th>Consumer Discretionary</th>\n      <td>0.0063</td>\n      <td>0.0100</td>\n      <td>0.0483</td>\n      <td>0.0568</td>\n      <td>0.3141</td>\n      <td>0.1416</td>\n      <td>0.1606</td>\n      <td>0.5869</td>\n      <td>0.8543</td>\n      <td>3.7038</td>\n    </tr>\n    <tr>\n      <th>Utilities</th>\n      <td>0.0062</td>\n      <td>0.0190</td>\n      <td>-0.0018</td>\n      <td>-0.0545</td>\n      <td>-0.0507</td>\n      <td>-0.1057</td>\n      <td>-0.0479</td>\n      <td>0.1238</td>\n      <td>0.3527</td>\n      <td>0.9407</td>\n    </tr>\n    <tr>\n      <th>Consumer Staples</th>\n      <td>0.0058</td>\n      <td>0.0189</td>\n      <td>0.0247</td>\n      <td>0.0030</td>\n      <td>0.0372</td>\n      <td>-0.0427</td>\n      <td>0.0189</td>\n      <td>0.1012</td>\n      <td>0.2398</td>\n      <td>1.2689</td>\n    </tr>\n    <tr>\n      <th>Communication Services</th>\n      <td>0.0002</td>\n      <td>0.0196</td>\n      <td>0.0468</td>\n      <td>0.0255</td>\n      <td>0.2166</td>\n      <td>0.0592</td>\n      <td>0.1473</td>\n      <td>0.2768</td>\n      <td>0.2781</td>\n      <td>0.8403</td>\n    </tr>\n    <tr>\n      <th>Information Technology</th>\n      <td>0.0000</td>\n      <td>-0.0003</td>\n      <td>0.0270</td>\n      <td>0.0576</td>\n      <td>0.2682</td>\n      <td>0.1801</td>\n      <td>0.3607</td>\n      <td>1.0107</td>\n      <td>1.7931</td>\n      <td>4.4889</td>\n    </tr>\n    <tr>\n      <th>Real Estate</th>\n      <td>-0.0031</td>\n      <td>0.0017</td>\n      <td>-0.0176</td>\n      <td>-0.0622</td>\n      <td>-0.0144</td>\n      <td>-0.0957</td>\n      <td>-0.0774</td>\n      <td>0.1088</td>\n      <td>NaN</td>\n      <td>NaN</td>\n    </tr>\n  </tbody>\n</table>\n</div>",
            "text/plain": "                        Rank A: Real-Time Performance  \\\nHealth Care                                    0.0189   \nIndustrials                                    0.0163   \nFinancials                                     0.0142   \nMaterials                                      0.0129   \nEnergy                                         0.0077   \nConsumer Discretionary                         0.0063   \nUtilities                                      0.0062   \nConsumer Staples                               0.0058   \nCommunication Services                         0.0002   \nInformation Technology                         0.0000   \nReal Estate                                   -0.0031   \n\n                        Rank B: Day Performance  Rank C: Day Performance  \\\nHealth Care                             -0.0022                  -0.0088   \nIndustrials                              0.0129                  -0.0139   \nFinancials                               0.0348                   0.0215   \nMaterials                                0.0175                   0.0076   \nEnergy                                   0.0325                  -0.0464   \nConsumer Discretionary                   0.0100                   0.0483   \nUtilities                                0.0190                  -0.0018   \nConsumer Staples                         0.0189                   0.0247   \nCommunication Services                   0.0196                   0.0468   \nInformation Technology                  -0.0003                   0.0270   \nReal Estate                              0.0017                  -0.0176   \n\n                        Rank D: Month Performance  Rank E: Month Performance  \\\nHealth Care                               -0.0180                     0.0614   \nIndustrials                               -0.0826                     0.0758   \nFinancials                                -0.0992                     0.0044   \nMaterials                                 -0.0164                     0.1290   \nEnergy                                    -0.2013                     0.0412   \nConsumer Discretionary                     0.0568                     0.3141   \nUtilities                                 -0.0545                    -0.0507   \nConsumer Staples                           0.0030                     0.0372   \nCommunication Services                     0.0255                     0.2166   \nInformation Technology                     0.0576                     0.2682   \nReal Estate                               -0.0622                    -0.0144   \n\n                        Rank F: Year-to-Date (YTD) Performance  \\\nHealth Care                                            -0.0120   \nIndustrials                                            -0.1642   \nFinancials                                             -0.2374   \nMaterials                                              -0.0543   \nEnergy                                                 -0.4078   \nConsumer Discretionary                                  0.1416   \nUtilities                                              -0.1057   \nConsumer Staples                                       -0.0427   \nCommunication Services                                  0.0592   \nInformation Technology                                  0.1801   \nReal Estate                                            -0.0957   \n\n                        Rank G: Year Performance  Rank H: Year Performance  \\\nHealth Care                               0.0888                    0.2809   \nIndustrials                              -0.1107                   -0.0206   \nFinancials                               -0.1640                   -0.0617   \nMaterials                                 0.0095                    0.0750   \nEnergy                                   -0.4220                   -0.4272   \nConsumer Discretionary                    0.1606                    0.5869   \nUtilities                                -0.0479                    0.1238   \nConsumer Staples                          0.0189                    0.1012   \nCommunication Services                    0.1473                    0.2768   \nInformation Technology                    0.3607                    1.0107   \nReal Estate                              -0.0774                    0.1088   \n\n                        Rank I: Year Performance  Rank J: Year Performance  \nHealth Care                               0.3671                    2.4873  \nIndustrials                               0.2433                    1.3143  \nFinancials                                0.1894                    0.9947  \nMaterials                                 0.2364                    0.9783  \nEnergy                                   -0.4952                   -0.3138  \nConsumer Discretionary                    0.8543                    3.7038  \nUtilities                                 0.3527                    0.9407  \nConsumer Staples                          0.2398                    1.2689  \nCommunication Services                    0.2781                    0.8403  \nInformation Technology                    1.7931                    4.4889  \nReal Estate                                  NaN                       NaN  "
          },
          "execution_count": 8,
          "metadata": {},
          "output_type": "execute_result"
        }
      ]
    },
    {
      "metadata": {
        "trusted": false
      },
      "cell_type": "code",
      "source": "sp_data.to_csv(\"stock_tables/sector_performance_av.csv\", index=True) #save to a csv file",
      "execution_count": 10,
      "outputs": []
    }
  ],
  "metadata": {
    "kernelspec": {
      "name": "python3",
      "display_name": "Python 3",
      "language": "python"
    },
    "language_info": {
      "mimetype": "text/x-python",
      "nbconvert_exporter": "python",
      "name": "python",
      "pygments_lexer": "ipython3",
      "version": "3.5.4",
      "file_extension": ".py",
      "codemirror_mode": {
        "version": 3,
        "name": "ipython"
      }
    }
  },
  "nbformat": 4,
  "nbformat_minor": 4
}