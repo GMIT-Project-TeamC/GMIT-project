{
 "cells": [
  {
   "cell_type": "code",
   "execution_count": 1,
   "metadata": {},
   "outputs": [],
   "source": [
    "import os\n",
    "import pandas as pd"
   ]
  },
  {
   "cell_type": "code",
   "execution_count": 2,
   "metadata": {},
   "outputs": [],
   "source": [
    "sp_top_50 = pd.read_csv(\"stock_tables/sp_top_50.csv\", index_col=0)"
   ]
  },
  {
   "cell_type": "markdown",
   "metadata": {},
   "source": [
    "## Add % chg to each stock during _Jan to Apir_ and _Apir to July_"
   ]
  },
  {
   "cell_type": "code",
   "execution_count": 3,
   "metadata": {},
   "outputs": [],
   "source": [
    "def find_chg(symbol):\n",
    "    prices = pd.read_csv(f\"stock_tables/sp500_stocks/{symbol}.csv\",index_col=0)\n",
    "    prices.index = pd.to_datetime(prices.index)\n",
    "    now = float(prices.loc['2020-07-01']['4. close'].values)\n",
    "    mid = float(prices.loc['2020-04-01']['4. close'].values)\n",
    "    start = float(prices.loc['2020-01-02']['4. close'].values)\n",
    "    change_jan_to_apr = (mid-start)/start\n",
    "    change_apr_to_jul = (now-mid)/mid\n",
    "    return change_jan_to_apr, change_apr_to_jul"
   ]
  },
  {
   "cell_type": "code",
   "execution_count": 4,
   "metadata": {},
   "outputs": [],
   "source": [
    "summary_prices_tups = []\n",
    "for symbol in sp_top_50['Symbol']:\n",
    "    summary_prices_tups.append(find_chg(symbol))"
   ]
  },
  {
   "cell_type": "code",
   "execution_count": 5,
   "metadata": {},
   "outputs": [],
   "source": [
    "change_jan_to_apr, change_apr_to_jul = list(zip(*summary_prices_tups))"
   ]
  },
  {
   "cell_type": "code",
   "execution_count": 6,
   "metadata": {},
   "outputs": [],
   "source": [
    "sp_top_50[\"change_jan_to_apr\"] = change_jan_to_apr\n",
    "sp_top_50[\"change_apr_to_jul\"] = change_apr_to_jul"
   ]
  },
  {
   "cell_type": "code",
   "execution_count": 7,
   "metadata": {},
   "outputs": [
    {
     "data": {
      "text/html": [
       "<div>\n",
       "<style scoped>\n",
       "    .dataframe tbody tr th:only-of-type {\n",
       "        vertical-align: middle;\n",
       "    }\n",
       "\n",
       "    .dataframe tbody tr th {\n",
       "        vertical-align: top;\n",
       "    }\n",
       "\n",
       "    .dataframe thead th {\n",
       "        text-align: right;\n",
       "    }\n",
       "</style>\n",
       "<table border=\"1\" class=\"dataframe\">\n",
       "  <thead>\n",
       "    <tr style=\"text-align: right;\">\n",
       "      <th></th>\n",
       "      <th>Company</th>\n",
       "      <th>Symbol</th>\n",
       "      <th>Weight</th>\n",
       "      <th>Price</th>\n",
       "      <th>Chg</th>\n",
       "      <th>% Chg</th>\n",
       "      <th>Security</th>\n",
       "      <th>SEC filings</th>\n",
       "      <th>GICS Sector</th>\n",
       "      <th>GICS Sub Industry</th>\n",
       "      <th>Headquarters Location</th>\n",
       "      <th>Date first added</th>\n",
       "      <th>CIK</th>\n",
       "      <th>Founded</th>\n",
       "      <th>latitude</th>\n",
       "      <th>longitude</th>\n",
       "      <th>change_jan_to_apr</th>\n",
       "      <th>change_apr_to_jul</th>\n",
       "    </tr>\n",
       "  </thead>\n",
       "  <tbody>\n",
       "    <tr>\n",
       "      <th>2</th>\n",
       "      <td>Amazon.com Inc.</td>\n",
       "      <td>AMZN</td>\n",
       "      <td>5.094660</td>\n",
       "      <td>3,101.00</td>\n",
       "      <td>-99.00</td>\n",
       "      <td>-3.09</td>\n",
       "      <td>Amazon.com Inc.</td>\n",
       "      <td>reports</td>\n",
       "      <td>Consumer Discretionary</td>\n",
       "      <td>Internet &amp; Direct Marketing Retail</td>\n",
       "      <td>Seattle, Washington</td>\n",
       "      <td>18/11/2005</td>\n",
       "      <td>1018724</td>\n",
       "      <td>1994</td>\n",
       "      <td>47.603832</td>\n",
       "      <td>-122.330062</td>\n",
       "      <td>0.005105</td>\n",
       "      <td>0.508990</td>\n",
       "    </tr>\n",
       "    <tr>\n",
       "      <th>14</th>\n",
       "      <td>NVIDIA Corporation</td>\n",
       "      <td>NVDA</td>\n",
       "      <td>0.979764</td>\n",
       "      <td>403.48</td>\n",
       "      <td>-15.69</td>\n",
       "      <td>-3.74</td>\n",
       "      <td>Nvidia Corporation</td>\n",
       "      <td>reports</td>\n",
       "      <td>Information Technology</td>\n",
       "      <td>Semiconductors</td>\n",
       "      <td>Santa Clara, California</td>\n",
       "      <td>30/11/2001</td>\n",
       "      <td>1045810</td>\n",
       "      <td>NaN</td>\n",
       "      <td>37.233325</td>\n",
       "      <td>-121.684635</td>\n",
       "      <td>0.013172</td>\n",
       "      <td>0.568273</td>\n",
       "    </tr>\n",
       "    <tr>\n",
       "      <th>16</th>\n",
       "      <td>Netflix Inc.</td>\n",
       "      <td>NFLX</td>\n",
       "      <td>0.917025</td>\n",
       "      <td>537.5</td>\n",
       "      <td>-11.23</td>\n",
       "      <td>-2.05</td>\n",
       "      <td>Netflix Inc.</td>\n",
       "      <td>reports</td>\n",
       "      <td>Communication Services</td>\n",
       "      <td>Movies &amp; Entertainment</td>\n",
       "      <td>Los Gatos, California</td>\n",
       "      <td>20/12/2010</td>\n",
       "      <td>1065280</td>\n",
       "      <td>1997</td>\n",
       "      <td>37.226611</td>\n",
       "      <td>-121.974680</td>\n",
       "      <td>0.103908</td>\n",
       "      <td>0.333883</td>\n",
       "    </tr>\n",
       "    <tr>\n",
       "      <th>40</th>\n",
       "      <td>Eli Lilly and Company</td>\n",
       "      <td>LLY</td>\n",
       "      <td>0.521319</td>\n",
       "      <td>161</td>\n",
       "      <td>-2.36</td>\n",
       "      <td>-1.44</td>\n",
       "      <td>Lilly (Eli) &amp; Co.</td>\n",
       "      <td>reports</td>\n",
       "      <td>Health Care</td>\n",
       "      <td>Pharmaceuticals</td>\n",
       "      <td>Indianapolis, Indiana</td>\n",
       "      <td>31/12/1970</td>\n",
       "      <td>59478</td>\n",
       "      <td>1876</td>\n",
       "      <td>39.768333</td>\n",
       "      <td>-86.158350</td>\n",
       "      <td>0.031843</td>\n",
       "      <td>0.197039</td>\n",
       "    </tr>\n",
       "  </tbody>\n",
       "</table>\n",
       "</div>"
      ],
      "text/plain": [
       "                  Company Symbol    Weight     Price    Chg  % Chg  \\\n",
       "2         Amazon.com Inc.   AMZN  5.094660  3,101.00 -99.00  -3.09   \n",
       "14     NVIDIA Corporation   NVDA  0.979764    403.48 -15.69  -3.74   \n",
       "16           Netflix Inc.   NFLX  0.917025     537.5 -11.23  -2.05   \n",
       "40  Eli Lilly and Company    LLY  0.521319       161  -2.36  -1.44   \n",
       "\n",
       "              Security SEC filings             GICS Sector  \\\n",
       "2      Amazon.com Inc.     reports  Consumer Discretionary   \n",
       "14  Nvidia Corporation     reports  Information Technology   \n",
       "16        Netflix Inc.     reports  Communication Services   \n",
       "40   Lilly (Eli) & Co.     reports             Health Care   \n",
       "\n",
       "                     GICS Sub Industry    Headquarters Location  \\\n",
       "2   Internet & Direct Marketing Retail      Seattle, Washington   \n",
       "14                      Semiconductors  Santa Clara, California   \n",
       "16              Movies & Entertainment    Los Gatos, California   \n",
       "40                     Pharmaceuticals    Indianapolis, Indiana   \n",
       "\n",
       "   Date first added      CIK Founded   latitude   longitude  \\\n",
       "2        18/11/2005  1018724    1994  47.603832 -122.330062   \n",
       "14       30/11/2001  1045810     NaN  37.233325 -121.684635   \n",
       "16       20/12/2010  1065280    1997  37.226611 -121.974680   \n",
       "40       31/12/1970    59478    1876  39.768333  -86.158350   \n",
       "\n",
       "    change_jan_to_apr  change_apr_to_jul  \n",
       "2            0.005105           0.508990  \n",
       "14           0.013172           0.568273  \n",
       "16           0.103908           0.333883  \n",
       "40           0.031843           0.197039  "
      ]
     },
     "execution_count": 7,
     "metadata": {},
     "output_type": "execute_result"
    }
   ],
   "source": [
    "sp_top_50[sp_top_50['change_jan_to_apr']>0] #aha no surprise"
   ]
  },
  {
   "cell_type": "code",
   "execution_count": 8,
   "metadata": {},
   "outputs": [],
   "source": [
    "sp_top_50.to_csv(\"stock_tables/sp_top_50.csv\")"
   ]
  }
 ],
 "metadata": {
  "kernelspec": {
   "display_name": "Python 3",
   "language": "python",
   "name": "python3"
  },
  "language_info": {
   "codemirror_mode": {
    "name": "ipython",
    "version": 3
   },
   "file_extension": ".py",
   "mimetype": "text/x-python",
   "name": "python",
   "nbconvert_exporter": "python",
   "pygments_lexer": "ipython3",
   "version": "3.8.0"
  }
 },
 "nbformat": 4,
 "nbformat_minor": 4
}
