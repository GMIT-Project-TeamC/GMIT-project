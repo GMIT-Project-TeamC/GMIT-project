{
  "cells": [
    {
      "metadata": {
        "trusted": true
      },
      "cell_type": "code",
      "source": "#import the package \"Pandas\" into Jupyter Notebook\nimport numpy as np\nimport pandas as pd\nimport matplotlib.pyplot as plt\n\n#You need to tell which column of the csv file you want to set as index\nsector_data = pd.read_csv('stock_tables/sector_performance_av.csv')\n\nsector_data.head()",
      "execution_count": 1,
      "outputs": [
        {
          "output_type": "execute_result",
          "execution_count": 1,
          "data": {
            "text/html": "<div>\n<style scoped>\n    .dataframe tbody tr th:only-of-type {\n        vertical-align: middle;\n    }\n\n    .dataframe tbody tr th {\n        vertical-align: top;\n    }\n\n    .dataframe thead th {\n        text-align: right;\n    }\n</style>\n<table border=\"1\" class=\"dataframe\">\n  <thead>\n    <tr style=\"text-align: right;\">\n      <th></th>\n      <th>Unnamed: 0</th>\n      <th>Rank A: Real-Time Performance</th>\n      <th>Rank B: Day Performance</th>\n      <th>Rank C: Day Performance</th>\n      <th>Rank D: Month Performance</th>\n      <th>Rank E: Month Performance</th>\n      <th>Rank F: Year-to-Date (YTD) Performance</th>\n      <th>Rank G: Year Performance</th>\n      <th>Rank H: Year Performance</th>\n      <th>Rank I: Year Performance</th>\n      <th>Rank J: Year Performance</th>\n    </tr>\n  </thead>\n  <tbody>\n    <tr>\n      <th>0</th>\n      <td>Health Care</td>\n      <td>0.0189</td>\n      <td>-0.0022</td>\n      <td>-0.0088</td>\n      <td>-0.0180</td>\n      <td>0.0614</td>\n      <td>-0.0120</td>\n      <td>0.0888</td>\n      <td>0.2809</td>\n      <td>0.3671</td>\n      <td>2.4873</td>\n    </tr>\n    <tr>\n      <th>1</th>\n      <td>Industrials</td>\n      <td>0.0163</td>\n      <td>0.0129</td>\n      <td>-0.0139</td>\n      <td>-0.0826</td>\n      <td>0.0758</td>\n      <td>-0.1642</td>\n      <td>-0.1107</td>\n      <td>-0.0206</td>\n      <td>0.2433</td>\n      <td>1.3143</td>\n    </tr>\n    <tr>\n      <th>2</th>\n      <td>Financials</td>\n      <td>0.0142</td>\n      <td>0.0348</td>\n      <td>0.0215</td>\n      <td>-0.0992</td>\n      <td>0.0044</td>\n      <td>-0.2374</td>\n      <td>-0.1640</td>\n      <td>-0.0617</td>\n      <td>0.1894</td>\n      <td>0.9947</td>\n    </tr>\n    <tr>\n      <th>3</th>\n      <td>Materials</td>\n      <td>0.0129</td>\n      <td>0.0175</td>\n      <td>0.0076</td>\n      <td>-0.0164</td>\n      <td>0.1290</td>\n      <td>-0.0543</td>\n      <td>0.0095</td>\n      <td>0.0750</td>\n      <td>0.2364</td>\n      <td>0.9783</td>\n    </tr>\n    <tr>\n      <th>4</th>\n      <td>Energy</td>\n      <td>0.0077</td>\n      <td>0.0325</td>\n      <td>-0.0464</td>\n      <td>-0.2013</td>\n      <td>0.0412</td>\n      <td>-0.4078</td>\n      <td>-0.4220</td>\n      <td>-0.4272</td>\n      <td>-0.4952</td>\n      <td>-0.3138</td>\n    </tr>\n  </tbody>\n</table>\n</div>",
            "text/plain": "    Unnamed: 0  Rank A: Real-Time Performance  Rank B: Day Performance  \\\n0  Health Care                         0.0189                  -0.0022   \n1  Industrials                         0.0163                   0.0129   \n2   Financials                         0.0142                   0.0348   \n3    Materials                         0.0129                   0.0175   \n4       Energy                         0.0077                   0.0325   \n\n   Rank C: Day Performance  Rank D: Month Performance  \\\n0                  -0.0088                    -0.0180   \n1                  -0.0139                    -0.0826   \n2                   0.0215                    -0.0992   \n3                   0.0076                    -0.0164   \n4                  -0.0464                    -0.2013   \n\n   Rank E: Month Performance  Rank F: Year-to-Date (YTD) Performance  \\\n0                     0.0614                                 -0.0120   \n1                     0.0758                                 -0.1642   \n2                     0.0044                                 -0.2374   \n3                     0.1290                                 -0.0543   \n4                     0.0412                                 -0.4078   \n\n   Rank G: Year Performance  Rank H: Year Performance  \\\n0                    0.0888                    0.2809   \n1                   -0.1107                   -0.0206   \n2                   -0.1640                   -0.0617   \n3                    0.0095                    0.0750   \n4                   -0.4220                   -0.4272   \n\n   Rank I: Year Performance  Rank J: Year Performance  \n0                    0.3671                    2.4873  \n1                    0.2433                    1.3143  \n2                    0.1894                    0.9947  \n3                    0.2364                    0.9783  \n4                   -0.4952                   -0.3138  "
          },
          "metadata": {}
        }
      ]
    },
    {
      "metadata": {
        "trusted": true
      },
      "cell_type": "code",
      "source": "",
      "execution_count": null,
      "outputs": []
    }
  ],
  "metadata": {
    "kernelspec": {
      "name": "python36",
      "display_name": "Python 3.6",
      "language": "python"
    },
    "language_info": {
      "mimetype": "text/x-python",
      "nbconvert_exporter": "python",
      "name": "python",
      "pygments_lexer": "ipython3",
      "version": "3.6.6",
      "file_extension": ".py",
      "codemirror_mode": {
        "version": 3,
        "name": "ipython"
      }
    }
  },
  "nbformat": 4,
  "nbformat_minor": 2
}