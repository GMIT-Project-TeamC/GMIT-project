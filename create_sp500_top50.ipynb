{
 "cells": [
  {
   "cell_type": "code",
   "execution_count": 1,
   "metadata": {},
   "outputs": [],
   "source": [
    "import pandas as pd"
   ]
  },
  {
   "cell_type": "markdown",
   "metadata": {},
   "source": [
    "## Left join two tables "
   ]
  },
  {
   "cell_type": "code",
   "execution_count": 3,
   "metadata": {},
   "outputs": [],
   "source": [
    "d1 = pd.read_csv(\"stock_tables/sp500_by_cap.csv\", index_col=0)\n",
    "d2 = pd.read_csv(\"stock_tables/sp500_summary.csv\")"
   ]
  },
  {
   "cell_type": "code",
   "execution_count": 6,
   "metadata": {},
   "outputs": [],
   "source": [
    "sp_500 = pd.merge(d1, d2,how='left',on=['Symbol'])\n",
    "sp_top_50 = sp_500[:50]"
   ]
  },
  {
   "cell_type": "markdown",
   "metadata": {},
   "source": [
    "## Do not run below! takes ages to query geo locations"
   ]
  },
  {
   "cell_type": "code",
   "execution_count": 16,
   "metadata": {},
   "outputs": [],
   "source": [
    "from geopy.geocoders import Nominatim\n",
    "from collections import deque"
   ]
  },
  {
   "cell_type": "code",
   "execution_count": 21,
   "metadata": {},
   "outputs": [],
   "source": [
    "USER_AGENT = \"Mozilla/5.0 (Macintosh; Intel Mac OS X 10_15_2) AppleWebKit/537.36 (KHTML, like Gecko) Chrome/79.0.3945.88 Safari/537.36\"\n",
    "geolocator = Nominatim(user_agent=USER_AGENT)\n",
    "\n",
    "def convert_address_lat_long(loc,geolocator=geolocator):\n",
    "    loc_meta = geolocator.geocode(loc)\n",
    "    print(loc_meta.longitude)\n",
    "    return loc_meta.latitude, loc_meta.longitude"
   ]
  },
  {
   "cell_type": "code",
   "execution_count": 23,
   "metadata": {},
   "outputs": [],
   "source": [
    "locations = list(sp_top_50[\"Headquarters Location\"])"
   ]
  },
  {
   "cell_type": "code",
   "execution_count": 39,
   "metadata": {},
   "outputs": [],
   "source": [
    "locations_copy = deque(locations.copy())\n",
    "locations_copy\n",
    "full_latlong=[]"
   ]
  },
  {
   "cell_type": "code",
   "execution_count": 56,
   "metadata": {},
   "outputs": [],
   "source": [
    "while locations_copy:\n",
    "    try:\n",
    "        latlong = convert_address_lat_long(locations_copy[0])\n",
    "        full_latlong.append(latlong)\n",
    "        locations_copy.popleft()\n",
    "    except:\n",
    "        print(locations_copy)\n",
    "        break"
   ]
  },
  {
   "cell_type": "code",
   "execution_count": 69,
   "metadata": {},
   "outputs": [],
   "source": [
    "full_latlong\n",
    "lat, long = list(zip(*full_latlong))"
   ]
  },
  {
   "cell_type": "markdown",
   "metadata": {},
   "source": [
    "## Put latitude longitude into our data_set"
   ]
  },
  {
   "cell_type": "code",
   "execution_count": 72,
   "metadata": {},
   "outputs": [],
   "source": [
    "sp_top_50.insert(len(sp_top_50.columns), \"latitude\", lat, True)\n"
   ]
  },
  {
   "cell_type": "code",
   "execution_count": 75,
   "metadata": {},
   "outputs": [],
   "source": [
    "sp_top_50.insert(len(sp_top_50.columns), \"longitude\", long, True)"
   ]
  },
  {
   "cell_type": "code",
   "execution_count": 74,
   "metadata": {},
   "outputs": [
    {
     "name": "stdout",
     "output_type": "stream",
     "text": [
      "-122.1238767\n"
     ]
    },
    {
     "data": {
      "text/plain": [
       "(47.6694141, -122.1238767)"
      ]
     },
     "execution_count": 74,
     "metadata": {},
     "output_type": "execute_result"
    }
   ],
   "source": [
    "convert_address_lat_long(\"Redmond, Washington\")"
   ]
  },
  {
   "cell_type": "code",
   "execution_count": 78,
   "metadata": {},
   "outputs": [],
   "source": [
    "sp_top_50.to_csv(\"stock_tables/sp_top_50.csv\")"
   ]
  }
 ],
 "metadata": {
  "kernelspec": {
   "display_name": "Python 3",
   "language": "python",
   "name": "python3"
  },
  "language_info": {
   "codemirror_mode": {
    "name": "ipython",
    "version": 3
   },
   "file_extension": ".py",
   "mimetype": "text/x-python",
   "name": "python",
   "nbconvert_exporter": "python",
   "pygments_lexer": "ipython3",
   "version": "3.8.0"
  }
 },
 "nbformat": 4,
 "nbformat_minor": 4
}
