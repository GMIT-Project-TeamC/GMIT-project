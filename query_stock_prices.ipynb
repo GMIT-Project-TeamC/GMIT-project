{
 "cells": [
  {
   "cell_type": "code",
   "execution_count": 1,
   "metadata": {},
   "outputs": [],
   "source": [
    "import os\n",
    "import requests \n",
    "import pandas as pd\n",
    "from multiprocessing import Pool\n",
    "from utils import query_dataset, plot_column_vs_time \n",
    "# import utility function ass Pool only works on imported funcs"
   ]
  },
  {
   "cell_type": "code",
   "execution_count": 2,
   "metadata": {},
   "outputs": [],
   "source": [
    "## Read S&P500 summary table\n",
    "sp_500_summary = pd.read_csv(\"stock_tables/sp500_summary.csv\")\n",
    "sp_500_by_cap = pd.read_csv(\"stock_tables/sp500_by_cap.csv\")"
   ]
  },
  {
   "cell_type": "markdown",
   "metadata": {},
   "source": [
    "## Use a RESTful api call of alpha_vantage directly"
   ]
  },
  {
   "cell_type": "code",
   "execution_count": 3,
   "metadata": {},
   "outputs": [],
   "source": [
    "### Use Multithreading to speed up\n",
    "start, end = 0, 5 # query top 5 stocks by cap\n",
    "stock_symbols = list(sp_500_by_cap[\"Symbol\"][start:end])\n",
    "with Pool(10) as p:\n",
    "    # takes a while...\n",
    "    rlts = p.map(query_dataset, stock_symbols)"
   ]
  },
  {
   "cell_type": "code",
   "execution_count": 4,
   "metadata": {},
   "outputs": [
    {
     "data": {
      "text/plain": [
       "[]"
      ]
     },
     "execution_count": 4,
     "metadata": {},
     "output_type": "execute_result"
    }
   ],
   "source": [
    "# dump rlts in memory to csv files\n",
    "unsuccessful_stocks = []\n",
    "for is_successful, stock_meta, prices_df in rlts:\n",
    "    \n",
    "    if is_successful:\n",
    "        symbol = stock_meta['2. Symbol']\n",
    "        prices_df.to_csv(f'stock_tables/sp500_stocks/{symbol}.csv')\n",
    "    else:\n",
    "        unsuccessful_stocks.append(stock_meta)  \n",
    "unsuccessful_stocks"
   ]
  }
 ],
 "metadata": {
  "kernelspec": {
   "display_name": "Python 3",
   "language": "python",
   "name": "python3"
  },
  "language_info": {
   "codemirror_mode": {
    "name": "ipython",
    "version": 3
   },
   "file_extension": ".py",
   "mimetype": "text/x-python",
   "name": "python",
   "nbconvert_exporter": "python",
   "pygments_lexer": "ipython3",
   "version": "3.8.0"
  }
 },
 "nbformat": 4,
 "nbformat_minor": 4
}
